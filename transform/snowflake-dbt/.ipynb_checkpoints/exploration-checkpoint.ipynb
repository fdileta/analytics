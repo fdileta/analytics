{
 "cells": [
  {
   "cell_type": "code",
   "execution_count": 40,
   "metadata": {},
   "outputs": [],
   "source": [
    " test= {   \"secure\": {\n",
    "      \"user_preferences_group_overview_security_dashboard\": \"SELECT COUNT(\\\"users\\\".\\\"id\\\") FROM \\\"users\\\" WHERE (\\\"users\\\".\\\"state\\\" IN ('active')) AND (\\\"users\\\".\\\"user_type\\\" IS NULL OR \\\"users\\\".\\\"user_type\\\" IN (NULL, 6, 4)) AND \\\"users\\\".\\\"group_view\\\" = 2 AND \\\"users\\\".\\\"created_at\\\" BETWEEN '2020-11-17 19:22:32.723497' AND '2020-12-15 19:22:32.723560'\"\n",
    " }}"
   ]
  },
  {
   "cell_type": "code",
   "execution_count": 58,
   "metadata": {},
   "outputs": [
    {
     "name": "stdout",
     "output_type": "stream",
     "text": [
      "[<DML 'SELECT' at 0x10C59EB88>, <Whitespace ' ' at 0x10C55D228>, <Function 'COUNT(...' at 0x10C5905E8>, <Whitespace ' ' at 0x10C297768>, <Keyword 'FROM' at 0x10C297828>, <Whitespace ' ' at 0x10C297228>, <Identifier '\"users\"' at 0x10C5901B0>, <Whitespace ' ' at 0x10C2970A8>, <Where 'WHERE ...' at 0x10C590840>]\n"
     ]
    },
    {
     "data": {
      "text/plain": [
       "[<DML 'SELECT' at 0x10C59EB88>,\n",
       " <Whitespace ' ' at 0x10C55D228>,\n",
       " <Name 'COUNT' at 0x10C2975E8>,\n",
       " <Punctuation '(' at 0x10C297348>,\n",
       " <Symbol '\"users\"' at 0x10C2972E8>,\n",
       " <Punctuation '.' at 0x10C297888>,\n",
       " <Symbol '\"id\"' at 0x10C2977C8>,\n",
       " <Punctuation ')' at 0x10C2974C8>,\n",
       " <Whitespace ' ' at 0x10C297768>,\n",
       " <Keyword 'FROM' at 0x10C297828>,\n",
       " <Whitespace ' ' at 0x10C297228>,\n",
       " <Symbol '\"users\"' at 0x10C297048>,\n",
       " <Whitespace ' ' at 0x10C2970A8>,\n",
       " <Keyword 'WHERE' at 0x10C297108>,\n",
       " <Whitespace ' ' at 0x10C297168>,\n",
       " <Punctuation '(' at 0x10C2971C8>,\n",
       " <Symbol '\"users\"' at 0x10C297D08>,\n",
       " <Punctuation '.' at 0x10C297D68>,\n",
       " <Symbol '\"state\"' at 0x10C2978E8>,\n",
       " <Whitespace ' ' at 0x10C297DC8>,\n",
       " <Keyword 'IN' at 0x10C297E28>,\n",
       " <Whitespace ' ' at 0x10C297E88>,\n",
       " <Punctuation '(' at 0x10C297EE8>,\n",
       " <Single ''activ...' at 0x10C297F48>,\n",
       " <Punctuation ')' at 0x10C297FA8>,\n",
       " <Punctuation ')' at 0x10C297948>,\n",
       " <Whitespace ' ' at 0x10C297528>,\n",
       " <Keyword 'AND' at 0x10C297A08>,\n",
       " <Whitespace ' ' at 0x10C297A68>,\n",
       " <Punctuation '(' at 0x10C297AC8>,\n",
       " <Symbol '\"users\"' at 0x10C297C48>,\n",
       " <Punctuation '.' at 0x10C297588>,\n",
       " <Symbol '\"user_...' at 0x10C297B28>,\n",
       " <Whitespace ' ' at 0x10C297B88>,\n",
       " <Keyword 'IS' at 0x10C297BE8>,\n",
       " <Whitespace ' ' at 0x10C297CA8>,\n",
       " <Keyword 'NULL' at 0x10C5F9048>,\n",
       " <Whitespace ' ' at 0x10C5F90A8>,\n",
       " <Keyword 'OR' at 0x10C5F9108>,\n",
       " <Whitespace ' ' at 0x10C5F9168>,\n",
       " <Symbol '\"users\"' at 0x10C5F91C8>,\n",
       " <Punctuation '.' at 0x10C5F9228>,\n",
       " <Symbol '\"user_...' at 0x10C5F9288>,\n",
       " <Whitespace ' ' at 0x10C5F92E8>,\n",
       " <Keyword 'IN' at 0x10C5F9348>,\n",
       " <Whitespace ' ' at 0x10C5F93A8>,\n",
       " <Punctuation '(' at 0x10C5F9408>,\n",
       " <Keyword 'NULL' at 0x10C5F9468>,\n",
       " <Punctuation ',' at 0x10C5F94C8>,\n",
       " <Whitespace ' ' at 0x10C5F9528>,\n",
       " <Integer '6' at 0x10C5F9588>,\n",
       " <Punctuation ',' at 0x10C5F95E8>,\n",
       " <Whitespace ' ' at 0x10C5F9648>,\n",
       " <Integer '4' at 0x10C5F96A8>,\n",
       " <Punctuation ')' at 0x10C5F9708>,\n",
       " <Punctuation ')' at 0x10C5F9768>,\n",
       " <Whitespace ' ' at 0x10C5F97C8>,\n",
       " <Keyword 'AND' at 0x10C5F9828>,\n",
       " <Whitespace ' ' at 0x10C5F9888>,\n",
       " <Symbol '\"users\"' at 0x10C5F98E8>,\n",
       " <Punctuation '.' at 0x10C5F9948>,\n",
       " <Symbol '\"group...' at 0x10C5F99A8>,\n",
       " <Whitespace ' ' at 0x10C5F9A08>,\n",
       " <Comparison '=' at 0x10C5F9A68>,\n",
       " <Whitespace ' ' at 0x10C5F9AC8>,\n",
       " <Integer '2' at 0x10C5F9B28>,\n",
       " <Whitespace ' ' at 0x10C5F9B88>,\n",
       " <Keyword 'AND' at 0x10C5F9BE8>,\n",
       " <Whitespace ' ' at 0x10C5F9C48>,\n",
       " <Symbol '\"users\"' at 0x10C5F9CA8>,\n",
       " <Punctuation '.' at 0x10C5F9D08>,\n",
       " <Symbol '\"creat...' at 0x10C5F9D68>,\n",
       " <Whitespace ' ' at 0x10C5F9DC8>,\n",
       " <Keyword 'BETWEEN' at 0x10C5F9E28>,\n",
       " <Whitespace ' ' at 0x10C5F9E88>,\n",
       " <Single ''2020-...' at 0x10C5F9EE8>,\n",
       " <Whitespace ' ' at 0x10C5F9F48>,\n",
       " <Keyword 'AND' at 0x10C5F9FA8>,\n",
       " <Whitespace ' ' at 0x10C5FA048>,\n",
       " <Single ''2020-...' at 0x10C5FA0A8>]"
      ]
     },
     "execution_count": 58,
     "metadata": {},
     "output_type": "execute_result"
    }
   ],
   "source": [
    "import json \n",
    "import sqlparse\n",
    "\n",
    "sql_first = test[\"secure\"][\"user_preferences_group_overview_security_dashboard\"]\n",
    "\n",
    "parsed = sqlparse.parse(sql_first)[0]\n",
    "test_list = []\n",
    "for x in parsed.flatten():\n",
    "    test_list.append(x)\n",
    "\n",
    "print(parsed.tokens)\n",
    "test_list"
   ]
  },
  {
   "cell_type": "code",
   "execution_count": null,
   "metadata": {},
   "outputs": [],
   "source": [
    "    p = sqlparse.parse(word)[0]\n",
    "    n_tok = len(p.tokens)\n",
    "    if n_tok == 1 and isinstance(p.tokens[0], Identifier):\n",
    "        return p.tokens[0]\n",
    "    if p.token_next_by(m=(Error, '\"'))[1]:\n",
    "        # An unmatched double quote, e.g. '\"foo', 'foo.\"', or 'foo.\"bar'\n",
    "        # Close the double quote, then reparse\n",
    "        return parse_partial_identifier(word + '\"')"
   ]
  },
  {
   "cell_type": "code",
   "execution_count": null,
   "metadata": {},
   "outputs": [],
   "source": []
  },
  {
   "cell_type": "code",
   "execution_count": null,
   "metadata": {},
   "outputs": [],
   "source": []
  }
 ],
 "metadata": {
  "kernelspec": {
   "display_name": "Python 3",
   "language": "python",
   "name": "python3"
  },
  "language_info": {
   "codemirror_mode": {
    "name": "ipython",
    "version": 3
   },
   "file_extension": ".py",
   "mimetype": "text/x-python",
   "name": "python",
   "nbconvert_exporter": "python",
   "pygments_lexer": "ipython3",
   "version": "3.7.3"
  }
 },
 "nbformat": 4,
 "nbformat_minor": 2
}
